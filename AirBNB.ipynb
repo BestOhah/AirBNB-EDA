{
 "cells": [
  {
   "cell_type": "markdown",
   "id": "8bba4308",
   "metadata": {},
   "source": [
    "## Importing the necessary libraries"
   ]
  },
  {
   "cell_type": "code",
   "execution_count": 1,
   "id": "5c2fb30e",
   "metadata": {},
   "outputs": [],
   "source": [
    "import numpy as np\n",
    "import pandas as pd\n",
    "import matplotlib.pyplot as plt\n",
    "import seaborn as sns"
   ]
  },
  {
   "cell_type": "markdown",
   "id": "7e539ad1",
   "metadata": {},
   "source": [
    "## Loading the data"
   ]
  },
  {
   "cell_type": "code",
   "execution_count": 2,
   "id": "b2ad881e",
   "metadata": {},
   "outputs": [],
   "source": [
    "df = pd.read_csv('Listings.csv', encoding='ISO-8859-1', \n",
    "                 low_memory = False, \n",
    "                 index_col = 'listing_id')"
   ]
  },
  {
   "cell_type": "code",
   "execution_count": 3,
   "id": "4c418d14",
   "metadata": {},
   "outputs": [
    {
     "data": {
      "text/html": [
       "<div>\n",
       "<style scoped>\n",
       "    .dataframe tbody tr th:only-of-type {\n",
       "        vertical-align: middle;\n",
       "    }\n",
       "\n",
       "    .dataframe tbody tr th {\n",
       "        vertical-align: top;\n",
       "    }\n",
       "\n",
       "    .dataframe thead th {\n",
       "        text-align: right;\n",
       "    }\n",
       "</style>\n",
       "<table border=\"1\" class=\"dataframe\">\n",
       "  <thead>\n",
       "    <tr style=\"text-align: right;\">\n",
       "      <th></th>\n",
       "      <th>name</th>\n",
       "      <th>host_id</th>\n",
       "      <th>host_since</th>\n",
       "      <th>host_location</th>\n",
       "      <th>host_response_time</th>\n",
       "      <th>host_response_rate</th>\n",
       "      <th>host_acceptance_rate</th>\n",
       "      <th>host_is_superhost</th>\n",
       "      <th>host_total_listings_count</th>\n",
       "      <th>host_has_profile_pic</th>\n",
       "      <th>...</th>\n",
       "      <th>minimum_nights</th>\n",
       "      <th>maximum_nights</th>\n",
       "      <th>review_scores_rating</th>\n",
       "      <th>review_scores_accuracy</th>\n",
       "      <th>review_scores_cleanliness</th>\n",
       "      <th>review_scores_checkin</th>\n",
       "      <th>review_scores_communication</th>\n",
       "      <th>review_scores_location</th>\n",
       "      <th>review_scores_value</th>\n",
       "      <th>instant_bookable</th>\n",
       "    </tr>\n",
       "    <tr>\n",
       "      <th>listing_id</th>\n",
       "      <th></th>\n",
       "      <th></th>\n",
       "      <th></th>\n",
       "      <th></th>\n",
       "      <th></th>\n",
       "      <th></th>\n",
       "      <th></th>\n",
       "      <th></th>\n",
       "      <th></th>\n",
       "      <th></th>\n",
       "      <th></th>\n",
       "      <th></th>\n",
       "      <th></th>\n",
       "      <th></th>\n",
       "      <th></th>\n",
       "      <th></th>\n",
       "      <th></th>\n",
       "      <th></th>\n",
       "      <th></th>\n",
       "      <th></th>\n",
       "      <th></th>\n",
       "    </tr>\n",
       "  </thead>\n",
       "  <tbody>\n",
       "    <tr>\n",
       "      <th>281420</th>\n",
       "      <td>Beautiful Flat in le Village Montmartre, Paris</td>\n",
       "      <td>1466919</td>\n",
       "      <td>12/3/2011</td>\n",
       "      <td>Paris, Ile-de-France, France</td>\n",
       "      <td>NaN</td>\n",
       "      <td>NaN</td>\n",
       "      <td>NaN</td>\n",
       "      <td>f</td>\n",
       "      <td>1.0</td>\n",
       "      <td>t</td>\n",
       "      <td>...</td>\n",
       "      <td>2</td>\n",
       "      <td>1125</td>\n",
       "      <td>100.0</td>\n",
       "      <td>10.0</td>\n",
       "      <td>10.0</td>\n",
       "      <td>10.0</td>\n",
       "      <td>10.0</td>\n",
       "      <td>10.0</td>\n",
       "      <td>10.0</td>\n",
       "      <td>f</td>\n",
       "    </tr>\n",
       "    <tr>\n",
       "      <th>3705183</th>\n",
       "      <td>39 mÃÂ² Paris (Sacre CÃ",
       "âur)</td>\n",
       "      <td>10328771</td>\n",
       "      <td>11/29/2013</td>\n",
       "      <td>Paris, Ile-de-France, France</td>\n",
       "      <td>NaN</td>\n",
       "      <td>NaN</td>\n",
       "      <td>NaN</td>\n",
       "      <td>f</td>\n",
       "      <td>1.0</td>\n",
       "      <td>t</td>\n",
       "      <td>...</td>\n",
       "      <td>2</td>\n",
       "      <td>1125</td>\n",
       "      <td>100.0</td>\n",
       "      <td>10.0</td>\n",
       "      <td>10.0</td>\n",
       "      <td>10.0</td>\n",
       "      <td>10.0</td>\n",
       "      <td>10.0</td>\n",
       "      <td>10.0</td>\n",
       "      <td>f</td>\n",
       "    </tr>\n",
       "    <tr>\n",
       "      <th>4082273</th>\n",
       "      <td>Lovely apartment with Terrace, 60m2</td>\n",
       "      <td>19252768</td>\n",
       "      <td>7/31/2014</td>\n",
       "      <td>Paris, Ile-de-France, France</td>\n",
       "      <td>NaN</td>\n",
       "      <td>NaN</td>\n",
       "      <td>NaN</td>\n",
       "      <td>f</td>\n",
       "      <td>1.0</td>\n",
       "      <td>t</td>\n",
       "      <td>...</td>\n",
       "      <td>2</td>\n",
       "      <td>1125</td>\n",
       "      <td>100.0</td>\n",
       "      <td>10.0</td>\n",
       "      <td>10.0</td>\n",
       "      <td>10.0</td>\n",
       "      <td>10.0</td>\n",
       "      <td>10.0</td>\n",
       "      <td>10.0</td>\n",
       "      <td>f</td>\n",
       "    </tr>\n",
       "    <tr>\n",
       "      <th>4797344</th>\n",
       "      <td>Cosy studio (close to Eiffel tower)</td>\n",
       "      <td>10668311</td>\n",
       "      <td>12/17/2013</td>\n",
       "      <td>Paris, Ile-de-France, France</td>\n",
       "      <td>NaN</td>\n",
       "      <td>NaN</td>\n",
       "      <td>NaN</td>\n",
       "      <td>f</td>\n",
       "      <td>1.0</td>\n",
       "      <td>t</td>\n",
       "      <td>...</td>\n",
       "      <td>2</td>\n",
       "      <td>1125</td>\n",
       "      <td>100.0</td>\n",
       "      <td>10.0</td>\n",
       "      <td>10.0</td>\n",
       "      <td>10.0</td>\n",
       "      <td>10.0</td>\n",
       "      <td>10.0</td>\n",
       "      <td>10.0</td>\n",
       "      <td>f</td>\n",
       "    </tr>\n",
       "    <tr>\n",
       "      <th>4823489</th>\n",
       "      <td>Close to Eiffel Tower - Beautiful flat : 2 rooms</td>\n",
       "      <td>24837558</td>\n",
       "      <td>12/14/2014</td>\n",
       "      <td>Paris, Ile-de-France, France</td>\n",
       "      <td>NaN</td>\n",
       "      <td>NaN</td>\n",
       "      <td>NaN</td>\n",
       "      <td>f</td>\n",
       "      <td>1.0</td>\n",
       "      <td>t</td>\n",
       "      <td>...</td>\n",
       "      <td>2</td>\n",
       "      <td>1125</td>\n",
       "      <td>100.0</td>\n",
       "      <td>10.0</td>\n",
       "      <td>10.0</td>\n",
       "      <td>10.0</td>\n",
       "      <td>10.0</td>\n",
       "      <td>10.0</td>\n",
       "      <td>10.0</td>\n",
       "      <td>f</td>\n",
       "    </tr>\n",
       "  </tbody>\n",
       "</table>\n",
       "<p>5 rows × 32 columns</p>\n",
       "</div>"
      ],
      "text/plain": [
       "                                                        name   host_id  \\\n",
       "listing_id                                                               \n",
       "281420        Beautiful Flat in le Village Montmartre, Paris   1466919   \n",
       "3705183                      39 mÃÂ² Paris (Sacre CÃ\n",
       "âur)  10328771   \n",
       "4082273                  Lovely apartment with Terrace, 60m2  19252768   \n",
       "4797344                  Cosy studio (close to Eiffel tower)  10668311   \n",
       "4823489     Close to Eiffel Tower - Beautiful flat : 2 rooms  24837558   \n",
       "\n",
       "            host_since                 host_location host_response_time  \\\n",
       "listing_id                                                                \n",
       "281420       12/3/2011  Paris, Ile-de-France, France                NaN   \n",
       "3705183     11/29/2013  Paris, Ile-de-France, France                NaN   \n",
       "4082273      7/31/2014  Paris, Ile-de-France, France                NaN   \n",
       "4797344     12/17/2013  Paris, Ile-de-France, France                NaN   \n",
       "4823489     12/14/2014  Paris, Ile-de-France, France                NaN   \n",
       "\n",
       "            host_response_rate  host_acceptance_rate host_is_superhost  \\\n",
       "listing_id                                                               \n",
       "281420                     NaN                   NaN                 f   \n",
       "3705183                    NaN                   NaN                 f   \n",
       "4082273                    NaN                   NaN                 f   \n",
       "4797344                    NaN                   NaN                 f   \n",
       "4823489                    NaN                   NaN                 f   \n",
       "\n",
       "            host_total_listings_count host_has_profile_pic  ...  \\\n",
       "listing_id                                                  ...   \n",
       "281420                            1.0                    t  ...   \n",
       "3705183                           1.0                    t  ...   \n",
       "4082273                           1.0                    t  ...   \n",
       "4797344                           1.0                    t  ...   \n",
       "4823489                           1.0                    t  ...   \n",
       "\n",
       "           minimum_nights maximum_nights review_scores_rating  \\\n",
       "listing_id                                                      \n",
       "281420                  2           1125                100.0   \n",
       "3705183                 2           1125                100.0   \n",
       "4082273                 2           1125                100.0   \n",
       "4797344                 2           1125                100.0   \n",
       "4823489                 2           1125                100.0   \n",
       "\n",
       "           review_scores_accuracy  review_scores_cleanliness  \\\n",
       "listing_id                                                     \n",
       "281420                       10.0                       10.0   \n",
       "3705183                      10.0                       10.0   \n",
       "4082273                      10.0                       10.0   \n",
       "4797344                      10.0                       10.0   \n",
       "4823489                      10.0                       10.0   \n",
       "\n",
       "            review_scores_checkin review_scores_communication  \\\n",
       "listing_id                                                      \n",
       "281420                       10.0                        10.0   \n",
       "3705183                      10.0                        10.0   \n",
       "4082273                      10.0                        10.0   \n",
       "4797344                      10.0                        10.0   \n",
       "4823489                      10.0                        10.0   \n",
       "\n",
       "           review_scores_location  review_scores_value  instant_bookable  \n",
       "listing_id                                                                \n",
       "281420                       10.0                 10.0                 f  \n",
       "3705183                      10.0                 10.0                 f  \n",
       "4082273                      10.0                 10.0                 f  \n",
       "4797344                      10.0                 10.0                 f  \n",
       "4823489                      10.0                 10.0                 f  \n",
       "\n",
       "[5 rows x 32 columns]"
      ]
     },
     "execution_count": 3,
     "metadata": {},
     "output_type": "execute_result"
    }
   ],
   "source": [
    "df.head()"
   ]
  },
  {
   "cell_type": "markdown",
   "id": "dfef0445",
   "metadata": {},
   "source": [
    "# Data Cleaning and Preparation"
   ]
  },
  {
   "cell_type": "code",
   "execution_count": 4,
   "id": "56221400",
   "metadata": {},
   "outputs": [],
   "source": [
    "df['host_since'] = pd.to_datetime(df['host_since'])"
   ]
  },
  {
   "cell_type": "markdown",
   "id": "23c8a4f4",
   "metadata": {},
   "source": [
    "Parsing the date column to a datetime"
   ]
  },
  {
   "cell_type": "code",
   "execution_count": 5,
   "id": "ac576aff",
   "metadata": {},
   "outputs": [
    {
     "name": "stdout",
     "output_type": "stream",
     "text": [
      "<class 'pandas.core.frame.DataFrame'>\n",
      "Int64Index: 279712 entries, 281420 to 40219504\n",
      "Data columns (total 32 columns):\n",
      " #   Column                       Non-Null Count   Dtype         \n",
      "---  ------                       --------------   -----         \n",
      " 0   name                         279539 non-null  object        \n",
      " 1   host_id                      279712 non-null  int64         \n",
      " 2   host_since                   279547 non-null  datetime64[ns]\n",
      " 3   host_location                278872 non-null  object        \n",
      " 4   host_response_time           150930 non-null  object        \n",
      " 5   host_response_rate           150930 non-null  float64       \n",
      " 6   host_acceptance_rate         166625 non-null  float64       \n",
      " 7   host_is_superhost            279547 non-null  object        \n",
      " 8   host_total_listings_count    279547 non-null  float64       \n",
      " 9   host_has_profile_pic         279547 non-null  object        \n",
      " 10  host_identity_verified       279547 non-null  object        \n",
      " 11  neighbourhood                279712 non-null  object        \n",
      " 12  district                     37012 non-null   object        \n",
      " 13  city                         279712 non-null  object        \n",
      " 14  latitude                     279712 non-null  float64       \n",
      " 15  longitude                    279712 non-null  float64       \n",
      " 16  property_type                279712 non-null  object        \n",
      " 17  room_type                    279712 non-null  object        \n",
      " 18  accommodates                 279712 non-null  int64         \n",
      " 19  bedrooms                     250277 non-null  float64       \n",
      " 20  amenities                    279712 non-null  object        \n",
      " 21  price                        279712 non-null  int64         \n",
      " 22  minimum_nights               279712 non-null  int64         \n",
      " 23  maximum_nights               279712 non-null  int64         \n",
      " 24  review_scores_rating         188307 non-null  float64       \n",
      " 25  review_scores_accuracy       187999 non-null  float64       \n",
      " 26  review_scores_cleanliness    188047 non-null  float64       \n",
      " 27  review_scores_checkin        187941 non-null  float64       \n",
      " 28  review_scores_communication  188025 non-null  float64       \n",
      " 29  review_scores_location       187937 non-null  float64       \n",
      " 30  review_scores_value          187927 non-null  float64       \n",
      " 31  instant_bookable             279712 non-null  object        \n",
      "dtypes: datetime64[ns](1), float64(13), int64(5), object(13)\n",
      "memory usage: 70.4+ MB\n"
     ]
    }
   ],
   "source": [
    "df.info()"
   ]
  },
  {
   "cell_type": "code",
   "execution_count": 6,
   "id": "14a4fd7b",
   "metadata": {},
   "outputs": [
    {
     "data": {
      "text/plain": [
       "array(['Paris', 'New York', 'Bangkok', 'Rio de Janeiro', 'Sydney',\n",
       "       'Istanbul', 'Rome', 'Hong Kong', 'Mexico City', 'Cape Town'],\n",
       "      dtype=object)"
      ]
     },
     "execution_count": 6,
     "metadata": {},
     "output_type": "execute_result"
    }
   ],
   "source": [
    "df['city'].unique()"
   ]
  },
  {
   "cell_type": "markdown",
   "id": "93e46622",
   "metadata": {},
   "source": [
    "The focus was on Paris, but it was necessary to see what other Cities where in the dataset"
   ]
  },
  {
   "cell_type": "markdown",
   "id": "9529ca7a",
   "metadata": {},
   "source": [
    "### Applying a Filter and removing unwanted columns"
   ]
  },
  {
   "cell_type": "code",
   "execution_count": 7,
   "id": "87caded9",
   "metadata": {},
   "outputs": [],
   "source": [
    "columns_to_keep = ['host_since', 'neighbourhood', 'city', 'accommodates', 'price']\n",
    "df_paris1 = df[columns_to_keep]\n",
    "#df_paris = df[df['city'] == 'Paris']"
   ]
  },
  {
   "cell_type": "code",
   "execution_count": 8,
   "id": "c6367aac",
   "metadata": {},
   "outputs": [],
   "source": [
    "df_paris = df_paris1[df['city'] == 'Paris']"
   ]
  },
  {
   "cell_type": "code",
   "execution_count": 9,
   "id": "4a22c924",
   "metadata": {},
   "outputs": [
    {
     "data": {
      "text/html": [
       "<div>\n",
       "<style scoped>\n",
       "    .dataframe tbody tr th:only-of-type {\n",
       "        vertical-align: middle;\n",
       "    }\n",
       "\n",
       "    .dataframe tbody tr th {\n",
       "        vertical-align: top;\n",
       "    }\n",
       "\n",
       "    .dataframe thead th {\n",
       "        text-align: right;\n",
       "    }\n",
       "</style>\n",
       "<table border=\"1\" class=\"dataframe\">\n",
       "  <thead>\n",
       "    <tr style=\"text-align: right;\">\n",
       "      <th></th>\n",
       "      <th>host_since</th>\n",
       "      <th>neighbourhood</th>\n",
       "      <th>city</th>\n",
       "      <th>accommodates</th>\n",
       "      <th>price</th>\n",
       "    </tr>\n",
       "    <tr>\n",
       "      <th>listing_id</th>\n",
       "      <th></th>\n",
       "      <th></th>\n",
       "      <th></th>\n",
       "      <th></th>\n",
       "      <th></th>\n",
       "    </tr>\n",
       "  </thead>\n",
       "  <tbody>\n",
       "    <tr>\n",
       "      <th>281420</th>\n",
       "      <td>2011-12-03</td>\n",
       "      <td>Buttes-Montmartre</td>\n",
       "      <td>Paris</td>\n",
       "      <td>2</td>\n",
       "      <td>53</td>\n",
       "    </tr>\n",
       "    <tr>\n",
       "      <th>3705183</th>\n",
       "      <td>2013-11-29</td>\n",
       "      <td>Buttes-Montmartre</td>\n",
       "      <td>Paris</td>\n",
       "      <td>2</td>\n",
       "      <td>120</td>\n",
       "    </tr>\n",
       "    <tr>\n",
       "      <th>4082273</th>\n",
       "      <td>2014-07-31</td>\n",
       "      <td>Elysee</td>\n",
       "      <td>Paris</td>\n",
       "      <td>2</td>\n",
       "      <td>89</td>\n",
       "    </tr>\n",
       "    <tr>\n",
       "      <th>4797344</th>\n",
       "      <td>2013-12-17</td>\n",
       "      <td>Vaugirard</td>\n",
       "      <td>Paris</td>\n",
       "      <td>2</td>\n",
       "      <td>58</td>\n",
       "    </tr>\n",
       "    <tr>\n",
       "      <th>4823489</th>\n",
       "      <td>2014-12-14</td>\n",
       "      <td>Passy</td>\n",
       "      <td>Paris</td>\n",
       "      <td>2</td>\n",
       "      <td>60</td>\n",
       "    </tr>\n",
       "  </tbody>\n",
       "</table>\n",
       "</div>"
      ],
      "text/plain": [
       "           host_since      neighbourhood   city  accommodates  price\n",
       "listing_id                                                          \n",
       "281420     2011-12-03  Buttes-Montmartre  Paris             2     53\n",
       "3705183    2013-11-29  Buttes-Montmartre  Paris             2    120\n",
       "4082273    2014-07-31             Elysee  Paris             2     89\n",
       "4797344    2013-12-17          Vaugirard  Paris             2     58\n",
       "4823489    2014-12-14              Passy  Paris             2     60"
      ]
     },
     "execution_count": 9,
     "metadata": {},
     "output_type": "execute_result"
    }
   ],
   "source": [
    "df_paris.head()"
   ]
  },
  {
   "cell_type": "code",
   "execution_count": 10,
   "id": "25b63e99",
   "metadata": {},
   "outputs": [
    {
     "name": "stdout",
     "output_type": "stream",
     "text": [
      "<class 'pandas.core.frame.DataFrame'>\n",
      "Int64Index: 64690 entries, 281420 to 40219504\n",
      "Data columns (total 5 columns):\n",
      " #   Column         Non-Null Count  Dtype         \n",
      "---  ------         --------------  -----         \n",
      " 0   host_since     64657 non-null  datetime64[ns]\n",
      " 1   neighbourhood  64690 non-null  object        \n",
      " 2   city           64690 non-null  object        \n",
      " 3   accommodates   64690 non-null  int64         \n",
      " 4   price          64690 non-null  int64         \n",
      "dtypes: datetime64[ns](1), int64(2), object(2)\n",
      "memory usage: 3.0+ MB\n"
     ]
    }
   ],
   "source": [
    "df_paris.info()"
   ]
  },
  {
   "cell_type": "markdown",
   "id": "c4e2a744",
   "metadata": {},
   "source": [
    "### Data Description"
   ]
  },
  {
   "cell_type": "code",
   "execution_count": 11,
   "id": "44e29c4c",
   "metadata": {},
   "outputs": [
    {
     "data": {
      "text/plain": [
       "host_since       33\n",
       "neighbourhood     0\n",
       "city              0\n",
       "accommodates      0\n",
       "price             0\n",
       "dtype: int64"
      ]
     },
     "execution_count": 11,
     "metadata": {},
     "output_type": "execute_result"
    }
   ],
   "source": [
    "df_paris.isnull().sum()"
   ]
  },
  {
   "cell_type": "code",
   "execution_count": 12,
   "id": "77fc424e",
   "metadata": {},
   "outputs": [
    {
     "data": {
      "text/html": [
       "<div>\n",
       "<style scoped>\n",
       "    .dataframe tbody tr th:only-of-type {\n",
       "        vertical-align: middle;\n",
       "    }\n",
       "\n",
       "    .dataframe tbody tr th {\n",
       "        vertical-align: top;\n",
       "    }\n",
       "\n",
       "    .dataframe thead th {\n",
       "        text-align: right;\n",
       "    }\n",
       "</style>\n",
       "<table border=\"1\" class=\"dataframe\">\n",
       "  <thead>\n",
       "    <tr style=\"text-align: right;\">\n",
       "      <th></th>\n",
       "      <th>accommodates</th>\n",
       "      <th>price</th>\n",
       "    </tr>\n",
       "  </thead>\n",
       "  <tbody>\n",
       "    <tr>\n",
       "      <th>count</th>\n",
       "      <td>64690.000000</td>\n",
       "      <td>64690.000000</td>\n",
       "    </tr>\n",
       "    <tr>\n",
       "      <th>mean</th>\n",
       "      <td>3.037997</td>\n",
       "      <td>113.096445</td>\n",
       "    </tr>\n",
       "    <tr>\n",
       "      <th>std</th>\n",
       "      <td>1.588766</td>\n",
       "      <td>214.433668</td>\n",
       "    </tr>\n",
       "    <tr>\n",
       "      <th>min</th>\n",
       "      <td>0.000000</td>\n",
       "      <td>0.000000</td>\n",
       "    </tr>\n",
       "    <tr>\n",
       "      <th>25%</th>\n",
       "      <td>2.000000</td>\n",
       "      <td>59.000000</td>\n",
       "    </tr>\n",
       "    <tr>\n",
       "      <th>50%</th>\n",
       "      <td>2.000000</td>\n",
       "      <td>80.000000</td>\n",
       "    </tr>\n",
       "    <tr>\n",
       "      <th>75%</th>\n",
       "      <td>4.000000</td>\n",
       "      <td>120.000000</td>\n",
       "    </tr>\n",
       "    <tr>\n",
       "      <th>max</th>\n",
       "      <td>16.000000</td>\n",
       "      <td>12000.000000</td>\n",
       "    </tr>\n",
       "  </tbody>\n",
       "</table>\n",
       "</div>"
      ],
      "text/plain": [
       "       accommodates         price\n",
       "count  64690.000000  64690.000000\n",
       "mean       3.037997    113.096445\n",
       "std        1.588766    214.433668\n",
       "min        0.000000      0.000000\n",
       "25%        2.000000     59.000000\n",
       "50%        2.000000     80.000000\n",
       "75%        4.000000    120.000000\n",
       "max       16.000000  12000.000000"
      ]
     },
     "execution_count": 12,
     "metadata": {},
     "output_type": "execute_result"
    }
   ],
   "source": [
    "df_paris.describe()"
   ]
  },
  {
   "cell_type": "markdown",
   "id": "e3f9af31",
   "metadata": {},
   "source": [
    "## Data Visualization"
   ]
  },
  {
   "cell_type": "code",
   "execution_count": 13,
   "id": "76be4290",
   "metadata": {},
   "outputs": [],
   "source": [
    "paris_listings_neighbourhood = (df_paris\n",
    "                                .groupby('neighbourhood')\n",
    "                                .agg({'price' : 'mean'})\n",
    "                                .sort_values(by='price'))"
   ]
  },
  {
   "cell_type": "code",
   "execution_count": 14,
   "id": "9c45b05f",
   "metadata": {},
   "outputs": [
    {
     "data": {
      "text/html": [
       "<div>\n",
       "<style scoped>\n",
       "    .dataframe tbody tr th:only-of-type {\n",
       "        vertical-align: middle;\n",
       "    }\n",
       "\n",
       "    .dataframe tbody tr th {\n",
       "        vertical-align: top;\n",
       "    }\n",
       "\n",
       "    .dataframe thead th {\n",
       "        text-align: right;\n",
       "    }\n",
       "</style>\n",
       "<table border=\"1\" class=\"dataframe\">\n",
       "  <thead>\n",
       "    <tr style=\"text-align: right;\">\n",
       "      <th></th>\n",
       "      <th>price</th>\n",
       "    </tr>\n",
       "    <tr>\n",
       "      <th>neighbourhood</th>\n",
       "      <th></th>\n",
       "    </tr>\n",
       "  </thead>\n",
       "  <tbody>\n",
       "    <tr>\n",
       "      <th>Menilmontant</th>\n",
       "      <td>74.942257</td>\n",
       "    </tr>\n",
       "    <tr>\n",
       "      <th>Buttes-Chaumont</th>\n",
       "      <td>82.690182</td>\n",
       "    </tr>\n",
       "    <tr>\n",
       "      <th>Buttes-Montmartre</th>\n",
       "      <td>87.209479</td>\n",
       "    </tr>\n",
       "    <tr>\n",
       "      <th>Reuilly</th>\n",
       "      <td>89.058402</td>\n",
       "    </tr>\n",
       "    <tr>\n",
       "      <th>Popincourt</th>\n",
       "      <td>90.559459</td>\n",
       "    </tr>\n",
       "  </tbody>\n",
       "</table>\n",
       "</div>"
      ],
      "text/plain": [
       "                       price\n",
       "neighbourhood               \n",
       "Menilmontant       74.942257\n",
       "Buttes-Chaumont    82.690182\n",
       "Buttes-Montmartre  87.209479\n",
       "Reuilly            89.058402\n",
       "Popincourt         90.559459"
      ]
     },
     "execution_count": 14,
     "metadata": {},
     "output_type": "execute_result"
    }
   ],
   "source": [
    "paris_listings_neighbourhood.head()"
   ]
  },
  {
   "cell_type": "code",
   "execution_count": 15,
   "id": "2fc7cfc7",
   "metadata": {},
   "outputs": [],
   "source": [
    "paris_listings_accomodations = (df_paris[df_paris['neighbourhood'] == 'Elysee']\n",
    "                                .groupby('accommodates')\n",
    "                                .agg({'price' : 'mean'})\n",
    "                                .sort_values('price')\n",
    "                               )"
   ]
  },
  {
   "cell_type": "code",
   "execution_count": 16,
   "id": "bd4a3ddb",
   "metadata": {},
   "outputs": [
    {
     "data": {
      "text/html": [
       "<div>\n",
       "<style scoped>\n",
       "    .dataframe tbody tr th:only-of-type {\n",
       "        vertical-align: middle;\n",
       "    }\n",
       "\n",
       "    .dataframe tbody tr th {\n",
       "        vertical-align: top;\n",
       "    }\n",
       "\n",
       "    .dataframe thead th {\n",
       "        text-align: right;\n",
       "    }\n",
       "</style>\n",
       "<table border=\"1\" class=\"dataframe\">\n",
       "  <thead>\n",
       "    <tr style=\"text-align: right;\">\n",
       "      <th></th>\n",
       "      <th>price</th>\n",
       "    </tr>\n",
       "    <tr>\n",
       "      <th>accommodates</th>\n",
       "      <th></th>\n",
       "    </tr>\n",
       "  </thead>\n",
       "  <tbody>\n",
       "    <tr>\n",
       "      <th>0</th>\n",
       "      <td>0.000000</td>\n",
       "    </tr>\n",
       "    <tr>\n",
       "      <th>1</th>\n",
       "      <td>79.522222</td>\n",
       "    </tr>\n",
       "    <tr>\n",
       "      <th>3</th>\n",
       "      <td>152.828767</td>\n",
       "    </tr>\n",
       "    <tr>\n",
       "      <th>2</th>\n",
       "      <td>155.103352</td>\n",
       "    </tr>\n",
       "    <tr>\n",
       "      <th>4</th>\n",
       "      <td>212.096070</td>\n",
       "    </tr>\n",
       "  </tbody>\n",
       "</table>\n",
       "</div>"
      ],
      "text/plain": [
       "                   price\n",
       "accommodates            \n",
       "0               0.000000\n",
       "1              79.522222\n",
       "3             152.828767\n",
       "2             155.103352\n",
       "4             212.096070"
      ]
     },
     "execution_count": 16,
     "metadata": {},
     "output_type": "execute_result"
    }
   ],
   "source": [
    "paris_listings_accomodations.head()"
   ]
  },
  {
   "cell_type": "code",
   "execution_count": 17,
   "id": "f2fb7d4e",
   "metadata": {},
   "outputs": [],
   "source": [
    "paris_listings_over_time = (df_paris\n",
    "                            .set_index('host_since')\n",
    "                            .resample('Y')\n",
    "                            .agg({\n",
    "                                'neighbourhood': 'count',\n",
    "                                'price' : 'mean'\n",
    "                            })\n",
    "                           )"
   ]
  },
  {
   "cell_type": "code",
   "execution_count": 18,
   "id": "e346ed2f",
   "metadata": {},
   "outputs": [
    {
     "data": {
      "text/html": [
       "<div>\n",
       "<style scoped>\n",
       "    .dataframe tbody tr th:only-of-type {\n",
       "        vertical-align: middle;\n",
       "    }\n",
       "\n",
       "    .dataframe tbody tr th {\n",
       "        vertical-align: top;\n",
       "    }\n",
       "\n",
       "    .dataframe thead th {\n",
       "        text-align: right;\n",
       "    }\n",
       "</style>\n",
       "<table border=\"1\" class=\"dataframe\">\n",
       "  <thead>\n",
       "    <tr style=\"text-align: right;\">\n",
       "      <th></th>\n",
       "      <th>neighbourhood</th>\n",
       "      <th>price</th>\n",
       "    </tr>\n",
       "    <tr>\n",
       "      <th>host_since</th>\n",
       "      <th></th>\n",
       "      <th></th>\n",
       "    </tr>\n",
       "  </thead>\n",
       "  <tbody>\n",
       "    <tr>\n",
       "      <th>2008-12-31</th>\n",
       "      <td>4</td>\n",
       "      <td>77.750000</td>\n",
       "    </tr>\n",
       "    <tr>\n",
       "      <th>2009-12-31</th>\n",
       "      <td>106</td>\n",
       "      <td>159.641509</td>\n",
       "    </tr>\n",
       "    <tr>\n",
       "      <th>2010-12-31</th>\n",
       "      <td>416</td>\n",
       "      <td>125.031250</td>\n",
       "    </tr>\n",
       "    <tr>\n",
       "      <th>2011-12-31</th>\n",
       "      <td>1339</td>\n",
       "      <td>124.828230</td>\n",
       "    </tr>\n",
       "    <tr>\n",
       "      <th>2012-12-31</th>\n",
       "      <td>4592</td>\n",
       "      <td>111.578615</td>\n",
       "    </tr>\n",
       "  </tbody>\n",
       "</table>\n",
       "</div>"
      ],
      "text/plain": [
       "            neighbourhood       price\n",
       "host_since                           \n",
       "2008-12-31              4   77.750000\n",
       "2009-12-31            106  159.641509\n",
       "2010-12-31            416  125.031250\n",
       "2011-12-31           1339  124.828230\n",
       "2012-12-31           4592  111.578615"
      ]
     },
     "execution_count": 18,
     "metadata": {},
     "output_type": "execute_result"
    }
   ],
   "source": [
    "paris_listings_over_time.head()"
   ]
  },
  {
   "cell_type": "markdown",
   "id": "87cb55f7",
   "metadata": {},
   "source": [
    "## Bar Chart"
   ]
  },
  {
   "cell_type": "code",
   "execution_count": 19,
   "id": "e0b46068",
   "metadata": {},
   "outputs": [
    {
     "data": {
      "image/png": "[encoded data removed]",
      "text/plain": [
       "<Figure size 432x288 with 1 Axes>"
      ]
     },
     "metadata": {
      "needs_background": "light"
     },
     "output_type": "display_data"
    }
   ],
   "source": [
    "(paris_listings_neighbourhood\n",
    ".plot\n",
    ".barh(\n",
    "    title = 'Avearge Listing Price By Neighbourhood',\n",
    "    xlabel = 'Price Per Night (Euros)',\n",
    "    ylabel = 'Neighbourhood',\n",
    "    legend = None\n",
    "    \n",
    ")\n",
    ");\n",
    "\n",
    "sns.despine()"
   ]
  },
  {
   "cell_type": "code",
   "execution_count": 20,
   "id": "78c7fc1a",
   "metadata": {},
   "outputs": [
    {
     "data": {
      "image/png": "[encoded data removed]",
      "text/plain": [
       "<Figure size 432x288 with 1 Axes>"
      ]
     },
     "metadata": {
      "needs_background": "light"
     },
     "output_type": "display_data"
    }
   ],
   "source": [
    "(paris_listings_accomodations\n",
    ".plot\n",
    ".barh(\n",
    "    title = 'Avearge Listing Price By Accommodation Number',\n",
    "    xlabel = 'Price Per Night (Euros)',\n",
    "    ylabel = 'Accomodation Capacity',\n",
    "    legend = None\n",
    "    \n",
    ")\n",
    ");\n",
    "\n",
    "sns.despine()"
   ]
  },
  {
   "cell_type": "markdown",
   "id": "48e0d6d5",
   "metadata": {},
   "source": [
    "## Line Chart "
   ]
  },
  {
   "cell_type": "code",
   "execution_count": 21,
   "id": "ed8a5d92",
   "metadata": {},
   "outputs": [
    {
     "data": {
      "image/png": "[encoded data removed]",
      "text/plain": [
       "<Figure size 432x288 with 1 Axes>"
      ]
     },
     "metadata": {
      "needs_background": "light"
     },
     "output_type": "display_data"
    }
   ],
   "source": [
    "paris_listings_over_time['neighbourhood'].plot(\n",
    "    ylabel='New Hosts',\n",
    "    title = 'New AirBnb Hosts in Paris Over Time'\n",
    "\n",
    ")\n",
    "\n",
    "sns.despine()"
   ]
  },
  {
   "cell_type": "code",
   "execution_count": 22,
   "id": "f6623ed8",
   "metadata": {},
   "outputs": [
    {
     "data": {
      "image/png": "[encoded data removed]",
      "text/plain": [
       "<Figure size 432x288 with 1 Axes>"
      ]
     },
     "metadata": {
      "needs_background": "light"
     },
     "output_type": "display_data"
    }
   ],
   "source": [
    "paris_listings_over_time['price'].plot(\n",
    "    ylabel='Average Price (Euros)',\n",
    "    title = 'Average AirBnb Price in Paris Over Time'\n",
    "\n",
    ")\n",
    "\n",
    "sns.despine()"
   ]
  },
  {
   "cell_type": "markdown",
   "id": "7aab572a",
   "metadata": {},
   "source": [
    "## Dual Axis Line Chart"
   ]
  },
  {
   "cell_type": "code",
   "execution_count": 23,
   "id": "eb757b1f",
   "metadata": {},
   "outputs": [
    {
     "data": {
      "image/png": "[encoded data removed]",
      "text/plain": [
       "<Figure size 432x288 with 2 Axes>"
      ]
     },
     "metadata": {
      "needs_background": "light"
     },
     "output_type": "display_data"
    }
   ],
   "source": [
    "fig, ax = plt.subplots()\n",
    "\n",
    "ax.plot(\n",
    "    paris_listings_over_time.index,\n",
    "    paris_listings_over_time['neighbourhood'],\n",
    "    label = 'New Hosts',\n",
    "    c='pink'\n",
    ")\n",
    "\n",
    "ax.set_ylabel('New Hosts')\n",
    "\n",
    "ax2 = ax.twinx()\n",
    "\n",
    "ax2.plot(\n",
    "    paris_listings_over_time.index,\n",
    "    paris_listings_over_time['price'],\n",
    "    label = 'Average Price' \n",
    ")\n",
    "ax2.set_ylim(0)\n",
    "\n",
    "ax2.set_ylabel('Average Price')\n",
    "\n",
    "ax.set_title('2015 Regulations Lead to Fewer New Hosts, Higher Prices');"
   ]
  },
  {
   "cell_type": "code",
   "execution_count": null,
   "id": "4d0bc30f",
   "metadata": {},
   "outputs": [],
   "source": []
  }
 ],
 "metadata": {
  "kernelspec": {
   "display_name": "Python 3 (ipykernel)",
   "language": "python",
   "name": "python3"
  },
  "language_info": {
   "codemirror_mode": {
    "name": "ipython",
    "version": 3
   },
   "file_extension": ".py",
   "mimetype": "text/x-python",
   "name": "python",
   "nbconvert_exporter": "python",
   "pygments_lexer": "ipython3",
   "version": "3.9.12"
  }
 },
 "nbformat": 4,
 "nbformat_minor": 5
}
